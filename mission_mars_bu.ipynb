{
 "cells": [
  {
   "cell_type": "code",
   "execution_count": 1,
   "metadata": {},
   "outputs": [],
   "source": [
    "# Dependencies\n",
    "from bs4 import BeautifulSoup as bs # Scraping\n",
    "import requests as req # Connects to the url\n",
    "import re #regular expressions\n",
    "\n",
    "import os\n",
    "import pandas as pd\n",
    "from splinter import Browser\n",
    "import pymongo\n",
    "# Initialize PyMongo to work with MongoDBs\n",
    "conn = 'mongodb://localhost:27017'\n",
    "client = pymongo.MongoClient(conn)\n",
    "from splinter import Browser\n",
    "from flask import Flask"
   ]
  },
  {
   "cell_type": "code",
   "execution_count": 2,
   "metadata": {
    "scrolled": true
   },
   "outputs": [
    {
     "name": "stdout",
     "output_type": "stream",
     "text": [
      "NASA Garners 7 Webby Award Nominations\n",
      "\n",
      "Nominees include four JPL projects: the solar system and climate websites, InSight social media, and a 360-degree Earth video. Public voting closes April 18, 2019.\n",
      "\n",
      "/system/news_items/list_view_images/8426_Webby2019-320x240.jpg\n"
     ]
    }
   ],
   "source": [
    "#NASA MARS\n",
    "NasaMars = \"https://mars.nasa.gov/news/?page=0&per_page=40&order=publish_date+desc%2Ccreated_at+desc&search=&category=19%2C165%2C184%2C204&blank_scope=Latest\"\n",
    "\n",
    "response = req.get(NasaMars) # to the site\n",
    "html_soup = bs(response.text, 'html.parser') \n",
    "\n",
    "context =  html_soup.find('body').\\\n",
    "       find('div', {\"class\":\"image_and_description_container\"})\n",
    "\n",
    "para = context.find(\"div\",{\"class\":\"rollover_description_inner\"}).get_text()\n",
    "\n",
    "title = (context.find_all('img')[1]).get('alt')\n",
    "\n",
    "img = (context.find_all('img')[1]).get('data-lazy')\n",
    "\n",
    "print(title)\n",
    "print(para)\n",
    "print(img)"
   ]
  },
  {
   "cell_type": "code",
   "execution_count": 3,
   "metadata": {},
   "outputs": [
    {
     "name": "stdout",
     "output_type": "stream",
     "text": [
      "https://www.jpl.nasa.gov//spaceimages/images/wallpaper/PIA18049-1920x1200.jpg\n"
     ]
    }
   ],
   "source": [
    "#JPL MARS SPACE IMAGES\n",
    "from splinter import Browser\n",
    "executable_path = {'executable_path': 'chromedriver_win32/chromedriver.exe'}\n",
    "browser = Browser('chrome', **executable_path, headless=False)\n",
    "\n",
    "response = req.get('https://www.jpl.nasa.gov/spaceimages/?search=&category=Mars') #connect to the site\n",
    "html_soup = bs(response.text, 'html.parser') \n",
    "\n",
    "featured_image_url =  html_soup.find('body').\\\n",
    "       find('article', {\"class\":\"carousel_item\"}).get('style').split(\"'\")[1]\n",
    "\n",
    "\n",
    "featured_image_url=('https://www.jpl.nasa.gov/'+ featured_image_url)#complete url string \n",
    "\n",
    "browser.visit(featured_image_url)\n",
    "print(featured_image_url)"
   ]
  },
  {
   "cell_type": "code",
   "execution_count": 4,
   "metadata": {},
   "outputs": [
    {
     "name": "stdout",
     "output_type": "stream",
     "text": [
      "\n",
      "InSight sol 156 (2019-05-05) low -99.2ºC (-146.6ºF) high -18.1ºC (-0.6ºF)\n",
      "winds from the SW at 4.7 m/s (10.5 mph) gusting to 13.8 m/s (30.8 mph)\n",
      "pressure at 7.40 hPapic.twitter.com/FlGDeYg8hi\n",
      "\n"
     ]
    }
   ],
   "source": [
    "#Mars weather twitter  \n",
    "\n",
    "html = \"https://twitter.com/marswxreport?lang=en\"\n",
    "response = req.get(\"https://twitter.com/marswxreport?lang=en\") #connect to the site\n",
    "html_soup = bs(response.text, 'html.parser') \n",
    "\n",
    "mars_weather =  html_soup.find('body').\\\n",
    "       find('div',{\"class\":\"js-tweet-text-container\"}).get_text()\n",
    "\n",
    "print(mars_weather)"
   ]
  },
  {
   "cell_type": "code",
   "execution_count": 5,
   "metadata": {},
   "outputs": [
    {
     "name": "stdout",
     "output_type": "stream",
     "text": [
      "<class 'pandas.core.frame.DataFrame'>\n"
     ]
    },
    {
     "data": {
      "text/plain": [
       "'<table border=\"1\" class=\"dataframe\">\\n  <thead>\\n    <tr style=\"text-align: right;\">\\n      <th></th>\\n      <th>0</th>\\n      <th>1</th>\\n    </tr>\\n  </thead>\\n  <tbody>\\n    <tr>\\n      <th>0</th>\\n      <td>Equatorial Diameter:</td>\\n      <td>6,792 km</td>\\n    </tr>\\n    <tr>\\n      <th>1</th>\\n      <td>Polar Diameter:</td>\\n      <td>6,752 km</td>\\n    </tr>\\n    <tr>\\n      <th>2</th>\\n      <td>Mass:</td>\\n      <td>6.42 x 10^23 kg (10.7% Earth)</td>\\n    </tr>\\n    <tr>\\n      <th>3</th>\\n      <td>Moons:</td>\\n      <td>2 (Phobos &amp; Deimos)</td>\\n    </tr>\\n    <tr>\\n      <th>4</th>\\n      <td>Orbit Distance:</td>\\n      <td>227,943,824 km (1.52 AU)</td>\\n    </tr>\\n    <tr>\\n      <th>5</th>\\n      <td>Orbit Period:</td>\\n      <td>687 days (1.9 years)</td>\\n    </tr>\\n    <tr>\\n      <th>6</th>\\n      <td>Surface Temperature:</td>\\n      <td>-153 to 20 °C</td>\\n    </tr>\\n    <tr>\\n      <th>7</th>\\n      <td>First Record:</td>\\n      <td>2nd millennium BC</td>\\n    </tr>\\n    <tr>\\n      <th>8</th>\\n      <td>Recorded By:</td>\\n      <td>Egyptian astronomers</td>\\n    </tr>\\n  </tbody>\\n</table>'"
      ]
     },
     "execution_count": 5,
     "metadata": {},
     "output_type": "execute_result"
    }
   ],
   "source": [
    "#Mars facts page\n",
    "html = \"https://space-facts.com/mars/\"\n",
    "\n",
    "tables = pd.read_html(\"https://space-facts.com/mars/\")[0]\n",
    " \n",
    "print(type (tables))\n",
    "html_table = tables.to_html()\n",
    "html_table"
   ]
  },
  {
   "cell_type": "code",
   "execution_count": 6,
   "metadata": {},
   "outputs": [
    {
     "name": "stdout",
     "output_type": "stream",
     "text": [
      "http://astropedia.astrogeology.usgs.gov/download/Mars/Viking/cerberus_enhanced.tif\n",
      "Cerberus Hemisphere Enhanced\n",
      "http://astropedia.astrogeology.usgs.gov/download/Mars/Viking/schiaparelli_enhanced.tif\n",
      "Schiaparelli Hemisphere Enhanced\n",
      "http://astropedia.astrogeology.usgs.gov/download/Mars/Viking/syrtis_major_enhanced.tif\n",
      "Syrtis Major Hemisphere Enhanced\n",
      "http://astropedia.astrogeology.usgs.gov/download/Mars/Viking/valles_marineris_enhanced.tif\n",
      "Valles Marineris Hemisphere Enhanced\n",
      "<a href=\"http://astropedia.astrogeology.usgs.gov/download/Mars/Viking/valles_marineris_enhanced.tif\" target=\"_blank\">Original</a>\n"
     ]
    }
   ],
   "source": [
    "#Mars astrogeology site\n",
    "\n",
    "mars = \"https://astrogeology.usgs.gov/search/results?q=hemisphere+enhanced&k1=target&v1=Mars\"\n",
    "rep3 = req.get(mars)\n",
    "html3 = bs(rep3.text, 'html.parser')\n",
    "test = html3.find('body')\n",
    "    \n",
    "links = []\n",
    "\n",
    "for i in range(4):\n",
    "    link = test.select('div.item')[i].find('a')\n",
    "    links.append(link['href'])\n",
    "    \n",
    "    \n",
    "for i in links:\n",
    "    inreq = req.get(\"https://astrogeology.usgs.gov\" + i)\n",
    "    inreq = req.get(\"https://astrogeology.usgs.gov\" + i)\n",
    "    rep4 = bs(inreq.text, 'html.parser')\n",
    "    test2 = rep4.find('div', {\"class\":\"downloads\"}).select('a')[1]['href']\n",
    "    print(test2)\n",
    "    test3 = rep4.find('div', {\"class\":\"content\"}).find('h2').get_text()\n",
    "    print(test3)\n",
    "\n",
    "    mars_hemisphere =  rep4.find('body').\\\n",
    "       find('div',{\"class\":\"downloads\"}).select ('a')[1]\n",
    "print(mars_hemisphere)"
   ]
  },
  {
   "cell_type": "code",
   "execution_count": 7,
   "metadata": {},
   "outputs": [
    {
     "name": "stdout",
     "output_type": "stream",
     "text": [
      "{'title': {'Schiaparelli', 'Cerberus', 'Valles Marineris', 'Syrtis Major'}, 'img_url': {'http://astropedia.astrogeology.usgs.gov/download/Mars/Viking/syrtis_major_enhanced.tif', 'http://astropedia.astrogeology.usgs.gov/download/Mars/Viking/schiaparelli_enhanced.tif', 'http://astropedia.astrogeology.usgs.gov/download/Mars/Viking/cerberus_enhanced.tif', 'http://astropedia.astrogeology.usgs.gov/download/Mars/Viking/valles_marineris_enhanced.tif'}}\n"
     ]
    }
   ],
   "source": [
    "#python dictionary to store data using keys title and img_url\n",
    "astrogeo = {\"title\":{\"Cerberus\",\"Schiaparelli\",\"Syrtis Major\",\"Valles Marineris\"}, \"img_url\":{\"http://astropedia.astrogeology.usgs.gov/download/Mars/Viking/cerberus_enhanced.tif\"\n",
    "                                                       ,\"http://astropedia.astrogeology.usgs.gov/download/Mars/Viking/schiaparelli_enhanced.tif\"\n",
    "                                                       ,\"http://astropedia.astrogeology.usgs.gov/download/Mars/Viking/syrtis_major_enhanced.tif\"\n",
    "                                                       ,\"http://astropedia.astrogeology.usgs.gov/download/Mars/Viking/valles_marineris_enhanced.tif\"}}\n",
    "\n",
    "print(astrogeo)"
   ]
  },
  {
   "cell_type": "code",
   "execution_count": 8,
   "metadata": {},
   "outputs": [],
   "source": [
    "astrogeo['title'] = 'img_url'"
   ]
  },
  {
   "cell_type": "code",
   "execution_count": 9,
   "metadata": {},
   "outputs": [],
   "source": [
    "dictlist = [{\"title\": \"Cerberus\", \"img_url\": \"http://astropedia.astrogeology.usgs.gov/download/Mars/Viking/cerberus_enhanced.tif\"},\n",
    " {\"title\":\"Schiaparelli\", \"img_url\":\"http://astropedia.astrogeology.usgs.gov/download/Mars/Viking/schiaparelli_enhanced.tif\"},\n",
    "  {\"title\":\"Syrtis Major\",\"img_url\":\"http://astropedia.astrogeology.usgs.gov/download/Mars/Viking/syrtis_major_enhanced.tif\"},\n",
    " {\"title\":\"Valles Marineris\", \"img_url\":\"http://astropedia.astrogeology.usgs.gov/download/Mars/Viking/valles_marineris_enhanced.tif\"}]\n",
    "                                                                                        "
   ]
  },
  {
   "cell_type": "code",
   "execution_count": 10,
   "metadata": {},
   "outputs": [
    {
     "name": "stdout",
     "output_type": "stream",
     "text": [
      "[{'title': 'Cerberus', 'img_url': 'http://astropedia.astrogeology.usgs.gov/download/Mars/Viking/cerberus_enhanced.tif'}, {'title': 'Schiaparelli', 'img_url': 'http://astropedia.astrogeology.usgs.gov/download/Mars/Viking/schiaparelli_enhanced.tif'}, {'title': 'Syrtis Major', 'img_url': 'http://astropedia.astrogeology.usgs.gov/download/Mars/Viking/syrtis_major_enhanced.tif'}, {'title': 'Valles Marineris', 'img_url': 'http://astropedia.astrogeology.usgs.gov/download/Mars/Viking/valles_marineris_enhanced.tif'}]\n"
     ]
    }
   ],
   "source": [
    "print(dictlist)"
   ]
  },
  {
   "cell_type": "code",
   "execution_count": 71,
   "metadata": {},
   "outputs": [],
   "source": []
  },
  {
   "cell_type": "code",
   "execution_count": null,
   "metadata": {},
   "outputs": [],
   "source": []
  }
 ],
 "metadata": {
  "kernelspec": {
   "display_name": "Python 3",
   "language": "python",
   "name": "python3"
  },
  "language_info": {
   "codemirror_mode": {
    "name": "ipython",
    "version": 3
   },
   "file_extension": ".py",
   "mimetype": "text/x-python",
   "name": "python",
   "nbconvert_exporter": "python",
   "pygments_lexer": "ipython3",
   "version": "3.7.3"
  }
 },
 "nbformat": 4,
 "nbformat_minor": 2
}
